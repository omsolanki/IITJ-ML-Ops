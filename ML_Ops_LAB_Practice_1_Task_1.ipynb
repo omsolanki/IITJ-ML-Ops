{
  "nbformat": 4,
  "nbformat_minor": 0,
  "metadata": {
    "colab": {
      "provenance": [],
      "mount_file_id": "1WWj_EF6dd0hqX38LzadDTx8wr4XRLjJQ",
      "authorship_tag": "ABX9TyPx4HDkLtuMEHo8MLGSr+89",
      "include_colab_link": true
    },
    "kernelspec": {
      "name": "python3",
      "display_name": "Python 3"
    },
    "language_info": {
      "name": "python"
    }
  },
  "cells": [
    {
      "cell_type": "markdown",
      "metadata": {
        "id": "view-in-github",
        "colab_type": "text"
      },
      "source": [
        "<a href=\"https://colab.research.google.com/github/omsolanki/IITJ-ML-Ops/blob/main/ML_Ops_LAB_Practice_1_Task_1.ipynb\" target=\"_parent\"><img src=\"https://colab.research.google.com/assets/colab-badge.svg\" alt=\"Open In Colab\"/></a>"
      ]
    },
    {
      "cell_type": "markdown",
      "source": [
        "# Load a dataset"
      ],
      "metadata": {
        "id": "yDM_Bfe7b6fX"
      }
    },
    {
      "cell_type": "code",
      "execution_count": null,
      "metadata": {
        "colab": {
          "base_uri": "https://localhost:8080/"
        },
        "id": "mriCd8fBVEqI",
        "outputId": "245959e8-d0e2-4a95-ef18-b7cbd3f2c892"
      },
      "outputs": [
        {
          "output_type": "stream",
          "name": "stdout",
          "text": [
            "original dataset:  (150, 5)\n",
            "modified dataset:  (160, 5)\n"
          ]
        }
      ],
      "source": [
        "import pandas as pd\n",
        "import numpy as np\n",
        "\n",
        "# constant\n",
        "# column names\n",
        "SEPAL_LENGTH = 'sepal_length'\n",
        "SEPAL_WIDTH = 'sepal_width'\n",
        "PETAL_LENGTH = 'petal_length'\n",
        "PETAL_WIDTH = 'petal_width'\n",
        "CLASS = 'class'\n",
        "SEED_VALUE = 42\n",
        "\n",
        "# Load the original Iris dataset\n",
        "url = \"https://archive.ics.uci.edu/ml/machine-learning-databases/iris/iris.data\"\n",
        "column_names = [SEPAL_LENGTH, SEPAL_WIDTH, PETAL_LENGTH, PETAL_WIDTH, CLASS]\n",
        "iris_df = pd.read_csv(url, header=None, names=column_names)\n",
        "print('original dataset: ',iris_df.shape)\n",
        "\n",
        "# Introduce missing values\n",
        "np.random.seed(42)\n",
        "iris_df.loc[np.random.choice(iris_df.index, size=10), SEPAL_LENGTH] = np.nan\n",
        "iris_df.loc[np.random.choice(iris_df.index, size=12), SEPAL_WIDTH] = np.nan\n",
        "iris_df.loc[np.random.choice(iris_df.index, size=15), PETAL_LENGTH] = np.nan\n",
        "iris_df.loc[np.random.choice(iris_df.index, size=18), PETAL_WIDTH] = np.nan\n",
        "\n",
        "# Introduce duplicates\n",
        "duplicates = iris_df.sample(10, random_state=42)\n",
        "iris_df = pd.concat([iris_df, duplicates], ignore_index=True)\n",
        "\n",
        "# Introduce outliers\n",
        "iris_df.loc[np.random.choice(iris_df.index, size=5), PETAL_LENGTH] = iris_df[PETAL_LENGTH] * 3\n",
        "iris_df.loc[np.random.choice(iris_df.index, size=8), SEPAL_WIDTH] = iris_df[SEPAL_WIDTH] * 4\n",
        "\n",
        "# Display the modified dataset\n",
        "print('modified dataset: ',iris_df.shape)\n",
        "#iris_df.tail(15)"
      ]
    },
    {
      "cell_type": "code",
      "source": [
        "from sklearn.model_selection import train_test_split\n",
        "from sklearn.impute import SimpleImputer\n",
        "\n",
        "X = iris_df[[SEPAL_LENGTH, SEPAL_WIDTH, PETAL_LENGTH, PETAL_WIDTH]]\n",
        "y = iris_df[CLASS]\n",
        "\n",
        "# Handling missing values using imputation (mean strategy for simplicity)\n",
        "imputer = SimpleImputer(strategy='mean')\n",
        "X_imputed = imputer.fit_transform(X)\n",
        "\n",
        "# Splitting the dataset into training and testing sets\n",
        "X_train, X_test, y_train, y_test = train_test_split(X_imputed, y, test_size=0.2, random_state = SEED_VALUE)\n",
        "\n",
        "# Displaying the resulting shapes\n",
        "print(\"Training set shape:\", X_train.shape, y_train.shape)\n",
        "print(\"Testing set shape:\", X_test.shape, y_test.shape)\n",
        "print(\"Dataset uncleaned:\")\n",
        "print(iris_df.describe())\n"
      ],
      "metadata": {
        "colab": {
          "base_uri": "https://localhost:8080/"
        },
        "id": "KYdgt1Higtst",
        "outputId": "53338fba-c293-4058-e206-44d862751625"
      },
      "execution_count": null,
      "outputs": [
        {
          "output_type": "stream",
          "name": "stdout",
          "text": [
            "Training set shape: (128, 4) (128,)\n",
            "Testing set shape: (32, 4) (32,)\n",
            "Dataset uncleaned:\n",
            "       sepal_length  sepal_width  petal_length  petal_width\n",
            "count    151.000000   148.000000    146.000000   143.000000\n",
            "mean       5.862914     3.568243      4.017123     1.225175\n",
            "std        0.835752     2.250080      2.457511     0.760881\n",
            "min        4.300000     2.000000      1.000000     0.100000\n",
            "25%        5.100000     2.800000      1.600000     0.350000\n",
            "50%        5.800000     3.000000      4.400000     1.300000\n",
            "75%        6.400000     3.400000      5.100000     1.800000\n",
            "max        7.900000    16.000000     19.800000     2.500000\n"
          ]
        }
      ]
    },
    {
      "cell_type": "markdown",
      "source": [
        "Train on uncleaned dataset"
      ],
      "metadata": {
        "id": "nZ5E6f5DE1Xf"
      }
    },
    {
      "cell_type": "code",
      "source": [
        "from sklearn.linear_model import LogisticRegression\n",
        "from sklearn.metrics import accuracy_score\n",
        "\n",
        "# Initializing the Logistic Regression model\n",
        "model = LogisticRegression(max_iter=200)\n",
        "\n",
        "# Training the model\n",
        "model.fit(X_train, y_train)\n",
        "\n",
        "# Making predictions\n",
        "y_pred = model.predict(X_test)\n",
        "\n",
        "# Calculating accuracy\n",
        "accuracy = accuracy_score(y_test, y_pred)\n",
        "\n",
        "# Displaying the accuracy\n",
        "print(f\"Accuracy on the original, uncleaned dataset: {accuracy:.4f}\")"
      ],
      "metadata": {
        "colab": {
          "base_uri": "https://localhost:8080/"
        },
        "id": "gffVeyXFE5yj",
        "outputId": "4061fd19-2021-4e2f-b2d7-26d65aa6f33b"
      },
      "execution_count": null,
      "outputs": [
        {
          "output_type": "stream",
          "name": "stdout",
          "text": [
            "Accuracy on the original, uncleaned dataset: 1.0000\n"
          ]
        }
      ]
    },
    {
      "cell_type": "markdown",
      "source": [
        "# Apply Data Cleaning Techniques"
      ],
      "metadata": {
        "id": "z15mr5l5J-3l"
      }
    },
    {
      "cell_type": "code",
      "source": [
        "# Step 1: Remove Duplicates\n",
        "iris_cleaned = iris_df.drop_duplicates()\n",
        "\n",
        "# Step 2: Handle Missing Values (imputing with the mean)\n",
        "imputer = SimpleImputer(strategy='mean')\n",
        "iris_cleaned[[SEPAL_LENGTH, SEPAL_WIDTH, PETAL_LENGTH, PETAL_WIDTH]] = imputer.fit_transform(\n",
        "    iris_cleaned[[SEPAL_LENGTH, SEPAL_WIDTH, PETAL_LENGTH, PETAL_WIDTH]])\n",
        "\n",
        "# Step 3: Handle Outliers (using IQR to remove outliers)\n",
        "Q1 = iris_cleaned[[PETAL_LENGTH]].quantile(0.25)\n",
        "Q3 = iris_cleaned[[PETAL_LENGTH]].quantile(0.75)\n",
        "IQR = Q3 - Q1\n",
        "\n",
        "# Define a threshold to identify outliers\n",
        "lower_bound = Q1 - 1.5 * IQR\n",
        "upper_bound = Q3 + 1.5 * IQR\n",
        "\n",
        "# Remove outliers\n",
        "iris_cleaned = iris_cleaned[~((iris_cleaned[PETAL_LENGTH] < lower_bound[PETAL_LENGTH]) |\n",
        "                              (iris_cleaned[PETAL_LENGTH] > upper_bound[PETAL_LENGTH]))]\n",
        "\n",
        "# Display the cleaned dataset\n",
        "print(\"Dataset after cleaning:\")\n",
        "print(iris_cleaned.describe())\n"
      ],
      "metadata": {
        "colab": {
          "base_uri": "https://localhost:8080/"
        },
        "id": "AkimHdU3KCef",
        "outputId": "99e78b6c-ee39-46b8-9d16-1fb4e66898bd"
      },
      "execution_count": null,
      "outputs": [
        {
          "output_type": "stream",
          "name": "stdout",
          "text": [
            "Dataset after cleaning:\n",
            "       sepal_length  sepal_width  petal_length  petal_width\n",
            "count    146.000000   146.000000    146.000000   146.000000\n",
            "mean       5.824936     3.640841      3.761101     1.202693\n",
            "std        0.811096     2.250352      1.664886     0.727780\n",
            "min        4.300000     2.000000      1.000000     0.100000\n",
            "25%        5.100000     2.800000      1.600000     0.400000\n",
            "50%        5.818929     3.100000      4.050741     1.211364\n",
            "75%        6.400000     3.575000      5.000000     1.800000\n",
            "max        7.900000    16.000000      6.900000     2.500000\n"
          ]
        },
        {
          "output_type": "stream",
          "name": "stderr",
          "text": [
            "<ipython-input-16-b579c726ae11>:6: SettingWithCopyWarning: \n",
            "A value is trying to be set on a copy of a slice from a DataFrame.\n",
            "Try using .loc[row_indexer,col_indexer] = value instead\n",
            "\n",
            "See the caveats in the documentation: https://pandas.pydata.org/pandas-docs/stable/user_guide/indexing.html#returning-a-view-versus-a-copy\n",
            "  iris_cleaned[[SEPAL_LENGTH, SEPAL_WIDTH, PETAL_LENGTH, PETAL_WIDTH]] = imputer.fit_transform(\n"
          ]
        }
      ]
    },
    {
      "cell_type": "markdown",
      "source": [
        "# Train the Logistic Regression Model on the Cleaned Dataset"
      ],
      "metadata": {
        "id": "yzgOyS7eKx9b"
      }
    },
    {
      "cell_type": "code",
      "source": [
        "from sklearn.linear_model import LogisticRegression\n",
        "from sklearn.metrics import accuracy_score\n",
        "from sklearn.model_selection import train_test_split\n",
        "\n",
        "# Splitting the cleaned dataset\n",
        "X_clean = iris_cleaned[[SEPAL_LENGTH, SEPAL_WIDTH, PETAL_LENGTH, PETAL_WIDTH]]\n",
        "y_clean = iris_cleaned[CLASS]\n",
        "\n",
        "X_train_clean, X_test_clean, y_train_clean, y_test_clean = train_test_split(X_clean, y_clean, test_size=0.2, random_state=42)\n",
        "\n",
        "# Training the Logistic Regression model on the cleaned dataset\n",
        "model_clean = LogisticRegression(max_iter=200)\n",
        "model_clean.fit(X_train_clean, y_train_clean)\n",
        "\n",
        "# Making predictions\n",
        "y_pred_clean = model_clean.predict(X_test_clean)\n",
        "\n",
        "# Calculating accuracy\n",
        "accuracy_clean = accuracy_score(y_test_clean, y_pred_clean)\n",
        "\n",
        "# Displaying the accuracy\n",
        "print(f\"Accuracy on the cleaned dataset: {accuracy_clean:.4f}\")\n",
        "\n",
        "# Print comparison of accuracies\n",
        "print(f\"Accuracy on the uncleaned dataset: {accuracy:.4f}\")\n",
        "print(f\"Accuracy on the cleaned dataset: {accuracy_clean:.4f}\")\n",
        "\n"
      ],
      "metadata": {
        "colab": {
          "base_uri": "https://localhost:8080/"
        },
        "id": "WjwUt55uKzZP",
        "outputId": "7ccc8e42-8e9d-4414-8030-4a373db21ab1"
      },
      "execution_count": null,
      "outputs": [
        {
          "output_type": "stream",
          "name": "stdout",
          "text": [
            "Accuracy on the cleaned dataset: 0.9000\n",
            "Accuracy on the uncleaned dataset: 1.0000\n",
            "Accuracy on the cleaned dataset: 0.9000\n"
          ]
        }
      ]
    },
    {
      "cell_type": "markdown",
      "source": [
        "**Uncleaned Dataset:**\n",
        "\n",
        "*   Perfect Accuracy (1.0000)\n",
        "*   The model performed perfectly, which likely indicates overfitting.\n",
        "*   It learned too much from the noise and irregularities in the data, including outliers and duplicates.\n",
        "\n",
        "**Cleaned Dataset**\n",
        "\n",
        "*   Lower Accuracy (0.9000)\n",
        "*   After cleaning the data, the model's accuracy dropped.\n",
        "*   This suggests the model became less focused on the noise and more on the actual patterns in the data.\n",
        "\n",
        "**Impact of Cleaning**\n",
        "\n",
        "*   The cleaned dataset led to a model that probably generalizes better to new data, even though the immediate test accuracy was lower.\n",
        "*   A model trained on clean data is more likely to perform well on new, unseen data, which is the ultimate goal in most real-world applications.\n",
        "\n",
        "Conclusion:\n",
        "\n",
        "*   Higher Accuracy Isn’t Always Better\n",
        "*   The cleaned dataset’s accuracy, though lower, is likely more realistic and reliable.\n"
      ],
      "metadata": {
        "id": "YCPGcqx3MQ3T"
      }
    }
  ]
}